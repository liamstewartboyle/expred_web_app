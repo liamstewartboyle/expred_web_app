{
 "cells": [
  {
   "cell_type": "code",
   "execution_count": 78,
   "id": "diverse-methodology",
   "metadata": {},
   "outputs": [
    {
     "name": "stdout",
     "output_type": "stream",
     "text": [
      "The autoreload extension is already loaded. To reload it, use:\n",
      "  %reload_ext autoreload\n"
     ]
    }
   ],
   "source": [
    "%load_ext autoreload\n",
    "%autoreload 2"
   ]
  },
  {
   "cell_type": "code",
   "execution_count": 79,
   "id": "sticky-marble",
   "metadata": {},
   "outputs": [],
   "source": [
    "import json\n",
    "import requests\n",
    "import yaml\n",
    "\n",
    "\n",
    "with open('credentials.yaml') as f:\n",
    "    data = yaml.load(f, Loader=yaml.FullLoader)\n",
    "subscriptionKey = data['subscriptionKey']\n",
    "customConfigId = data['customConfigId']\n",
    "\n",
    "\n",
    "def get_wiki_page_id(text):\n",
    "    id_pos = text.index('\"wgArticleId\":') + len('\"wgArticleId\":')\n",
    "    text = text[id_pos:]\n",
    "    page_id = text[:text.index(',')]\n",
    "    return page_id\n",
    "\n",
    "\n",
    "def get_bing_search_urls(res):\n",
    "    for page in ret['webPages']['value']:\n",
    "        wiki_ret = requests.get(page['url'])\n",
    "\n",
    "\n",
    "def bing_wiki_search(search_term):\n",
    "    bing_search_api = f'https://api.bing.microsoft.com/v7.0/custom/search?q={search_term}&customconfig={customConfigId}'\n",
    "    search_resp = requests.get(bing_search_api, headers={'Ocp-Apim-Subscription-Key': subscriptionKey})\n",
    "    search_res = json.loads(r.text)\n",
    "    res_urls = [page['url'] for page in ret['webPages']['value']]\n",
    "    return res_urls\n",
    "\n",
    "\n",
    "def get_wiki_docs(url):\n",
    "    wiki_ret = requests.get(url)\n",
    "    page_id = get_wiki_page_id(wiki_ret.text)\n",
    "    extract_ret = f\"https://en.wikipedia.org/w/api.php?action=query&format=json&prop=extracts&pageids={page_id}&formatversion=2&explaintext=1&exsectionformat=plain\"\n",
    "    r = requests.get(extract_ret)\n",
    "    extract_ret = json.loads(r.text)\n",
    "    try:\n",
    "        return extract_ret['query']['pages'][0]['extract']\n",
    "    except KeyError:\n",
    "        return ''"
   ]
  },
  {
   "cell_type": "code",
   "execution_count": 80,
   "id": "southern-malawi",
   "metadata": {},
   "outputs": [],
   "source": [
    "wiki_urls = bing_wiki_search('microsoft')\n",
    "docs = [get_wiki_docs(url) for url in wiki_urls]"
   ]
  }
 ],
 "metadata": {
  "kernelspec": {
   "display_name": "Python 3",
   "language": "python",
   "name": "python3"
  },
  "language_info": {
   "codemirror_mode": {
    "name": "ipython",
    "version": 3
   },
   "file_extension": ".py",
   "mimetype": "text/x-python",
   "name": "python",
   "nbconvert_exporter": "python",
   "pygments_lexer": "ipython3",
   "version": "3.7.6"
  }
 },
 "nbformat": 4,
 "nbformat_minor": 5
}
